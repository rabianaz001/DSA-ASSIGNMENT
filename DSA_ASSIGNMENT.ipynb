{
  "nbformat": 4,
  "nbformat_minor": 0,
  "metadata": {
    "colab": {
      "provenance": [],
      "collapsed_sections": [
        "pX0H0V-YFhbF"
      ]
    },
    "kernelspec": {
      "name": "python3",
      "display_name": "Python 3"
    },
    "language_info": {
      "name": "python"
    }
  },
  "cells": [
    {
      "cell_type": "markdown",
      "source": [
        "Problem 1: Reverse a singly linked list.\n",
        "\n",
        "Input: 1 -> 2 -> 3 -> 4 -> 5\n",
        "Output: 5 -> 4 -> 3 -> 2 -> 1"
      ],
      "metadata": {
        "id": "xRNKxUulAg14"
      }
    },
    {
      "cell_type": "code",
      "source": [
        "class Node:\n",
        "    def __init__(self, data):\n",
        "        self.data = data\n",
        "        self.next = None\n",
        "\n",
        "class LinkedList:\n",
        "    def __init__(self):\n",
        "        self.head = None\n",
        "\n",
        "    def append(self, data):\n",
        "        new_node = Node(data)\n",
        "        if not self.head:\n",
        "            self.head = new_node\n",
        "            return\n",
        "        current = self.head\n",
        "        while current.next:\n",
        "            current = current.next\n",
        "        current.next = new_node\n",
        "\n",
        "    def reverse(self):\n",
        "        prev = None\n",
        "        current = self.head\n",
        "        while current:\n",
        "            next_node = current.next\n",
        "            current.next = prev\n",
        "            prev = current\n",
        "            current = next_node\n",
        "        self.head = prev\n",
        "\n",
        "    def display(self):\n",
        "        current = self.head\n",
        "        while current:\n",
        "            print(current.data, end=\" \")\n",
        "            current = current.next\n",
        "        print()\n",
        "\n",
        "# Example usage:\n",
        "ll = LinkedList()\n",
        "ll.append(1)\n",
        "ll.append(2)\n",
        "ll.append(3)\n",
        "ll.append(4)\n",
        "\n",
        "print(\"Original linked list:\")\n",
        "ll.display()\n",
        "\n",
        "print(\"Reversed linked list:\")\n",
        "ll.reverse()\n",
        "ll.display()\n"
      ],
      "metadata": {
        "colab": {
          "base_uri": "https://localhost:8080/"
        },
        "id": "KL__QH6yAi0T",
        "outputId": "4bd30386-7a2b-4fd3-bb60-17635a92ed7b"
      },
      "execution_count": 1,
      "outputs": [
        {
          "output_type": "stream",
          "name": "stdout",
          "text": [
            "Original linked list:\n",
            "1 2 3 4 \n",
            "Reversed linked list:\n",
            "4 3 2 1 \n"
          ]
        }
      ]
    },
    {
      "cell_type": "markdown",
      "source": [
        "Problem 2: Merge two sorted linked lists into one sorted linked list.\n",
        "\n",
        "Input: List 1: 1 -> 3 -> 5, List 2: 2 -> 4 -> 6\n",
        "Output: 1 -> 2 -> 3 -> 4 -> 5 -> 6"
      ],
      "metadata": {
        "id": "Hcaf_I3sCe5G"
      }
    },
    {
      "cell_type": "code",
      "source": [
        "class Node:\n",
        "    def __init__(self, data):\n",
        "        self.data = data\n",
        "        self.next = None\n",
        "\n",
        "class LinkedList:\n",
        "    def __init__(self):\n",
        "        self.head = None\n",
        "\n",
        "    def append(self, data):\n",
        "        new_node = Node(data)\n",
        "        if not self.head:\n",
        "            self.head = new_node\n",
        "            return\n",
        "        current = self.head\n",
        "        while current.next:\n",
        "            current = current.next\n",
        "        current.next = new_node\n",
        "\n",
        "    def merge_sorted(self, other_list):\n",
        "        merged_list = LinkedList()\n",
        "        current_self = self.head\n",
        "        current_other = other_list.head\n",
        "\n",
        "        while current_self and current_other:\n",
        "            if current_self.data <= current_other.data:\n",
        "                merged_list.append(current_self.data)\n",
        "                current_self = current_self.next\n",
        "            else:\n",
        "                merged_list.append(current_other.data)\n",
        "                current_other = current_other.next\n",
        "\n",
        "        # Append remaining nodes from self list\n",
        "        while current_self:\n",
        "            merged_list.append(current_self.data)\n",
        "            current_self = current_self.next\n",
        "\n",
        "        # Append remaining nodes from other list\n",
        "        while current_other:\n",
        "            merged_list.append(current_other.data)\n",
        "            current_other = current_other.next\n",
        "\n",
        "        return merged_list\n",
        "\n",
        "    def display(self):\n",
        "        current = self.head\n",
        "        while current:\n",
        "            print(current.data, end=\" \")\n",
        "            current = current.next\n",
        "        print()\n",
        "\n",
        "# Example usage:\n",
        "list1 = LinkedList()\n",
        "list1.append(1)\n",
        "list1.append(3)\n",
        "list1.append(5)\n",
        "\n",
        "list2 = LinkedList()\n",
        "list2.append(2)\n",
        "list2.append(4)\n",
        "list2.append(6)\n",
        "\n",
        "print(\"List 1:\")\n",
        "list1.display()\n",
        "print(\"List 2:\")\n",
        "list2.display()\n",
        "\n",
        "merged_list = list1.merge_sorted(list2)\n",
        "print(\"Merged and Sorted List:\")\n",
        "merged_list.display()\n"
      ],
      "metadata": {
        "colab": {
          "base_uri": "https://localhost:8080/"
        },
        "id": "ywi4z1-lCJB5",
        "outputId": "53f83437-861b-4d77-ab50-48657a7d3c05"
      },
      "execution_count": 2,
      "outputs": [
        {
          "output_type": "stream",
          "name": "stdout",
          "text": [
            "List 1:\n",
            "1 3 5 \n",
            "List 2:\n",
            "2 4 6 \n",
            "Merged and Sorted List:\n",
            "1 2 3 4 5 6 \n"
          ]
        }
      ]
    },
    {
      "cell_type": "markdown",
      "source": [
        "Problem 3: Remove the nth node from the end of a linked list.\n",
        "\n",
        "Input: 1 -> 2 -> 3 -> 4 -> 5, n = 2\n",
        "Output: 1 -> 2 -> 3 -> 5"
      ],
      "metadata": {
        "id": "zTmplhLWDHUC"
      }
    },
    {
      "cell_type": "code",
      "source": [
        "class Node:\n",
        "    def __init__(self, data):\n",
        "        self.data = data\n",
        "        self.next = None\n",
        "\n",
        "class LinkedList:\n",
        "    def __init__(self):\n",
        "        self.head = None\n",
        "\n",
        "    def append(self, data):\n",
        "        new_node = Node(data)\n",
        "        if not self.head:\n",
        "            self.head = new_node\n",
        "            return\n",
        "        current = self.head\n",
        "        while current.next:\n",
        "            current = current.next\n",
        "        current.next = new_node\n",
        "\n",
        "    def remove_nth_from_end(self, n):\n",
        "        # Create dummy node to handle edge cases (e.g., removing the head)\n",
        "        dummy = Node(0)\n",
        "        dummy.next = self.head\n",
        "        fast = dummy\n",
        "        slow = dummy\n",
        "\n",
        "        # Move fast pointer n nodes ahead\n",
        "        for _ in range(n + 1):\n",
        "            fast = fast.next\n",
        "\n",
        "        # Move both pointers until fast reaches the end\n",
        "        while fast:\n",
        "            fast = fast.next\n",
        "            slow = slow.next\n",
        "\n",
        "        # Skip the nth node by updating the next pointer of the node before it\n",
        "        slow.next = slow.next.next\n",
        "\n",
        "        # Update the head if the removed node was the first node\n",
        "        self.head = dummy.next\n",
        "\n",
        "    def display(self):\n",
        "        current = self.head\n",
        "        while current:\n",
        "            print(current.data, end=\" \")\n",
        "            current = current.next\n",
        "        print()\n",
        "\n",
        "# Example usage:\n",
        "ll = LinkedList()\n",
        "ll.append(1)\n",
        "ll.append(2)\n",
        "ll.append(3)\n",
        "ll.append(4)\n",
        "ll.append(5)\n",
        "\n",
        "print(\"Original linked list:\")\n",
        "ll.display()\n",
        "\n",
        "n = 2\n",
        "ll.remove_nth_from_end(n)\n",
        "print(f\"Linked list after removing the {n}th node from the end:\")\n",
        "ll.display()\n"
      ],
      "metadata": {
        "colab": {
          "base_uri": "https://localhost:8080/"
        },
        "id": "Jx77OspHC-ME",
        "outputId": "b8e319aa-aa20-4d34-9a8f-9202df3124d5"
      },
      "execution_count": 3,
      "outputs": [
        {
          "output_type": "stream",
          "name": "stdout",
          "text": [
            "Original linked list:\n",
            "1 2 3 4 5 \n",
            "Linked list after removing the 2th node from the end:\n",
            "1 2 3 5 \n"
          ]
        }
      ]
    },
    {
      "cell_type": "markdown",
      "source": [
        "Problem 4: Find the intersection point of two linked lists.\n",
        "\n",
        "Input: List 1: 1 -> 2 -> 3 -> 4, List 2: 9 -> 8 -> 3 -> 4\n",
        "Output: Node with value 3"
      ],
      "metadata": {
        "id": "G6xM0HwSDgc2"
      }
    },
    {
      "cell_type": "code",
      "source": [
        "class Node:\n",
        "    def __init__(self, data):\n",
        "        self.data = data\n",
        "        self.next = None\n",
        "\n",
        "class LinkedList:\n",
        "    def __init__(self):\n",
        "        self.head = None\n",
        "\n",
        "    def append(self, data):\n",
        "        new_node = Node(data)\n",
        "        if not self.head:\n",
        "            self.head = new_node\n",
        "            return\n",
        "        current = self.head\n",
        "        while current.next:\n",
        "            current = current.next\n",
        "        current.next = new_node\n",
        "\n",
        "    def intersection(self, other_list):\n",
        "        current_self = self.head\n",
        "        current_other = other_list.head\n",
        "\n",
        "        while current_self != current_other:\n",
        "            current_self = current_self.next if current_self else other_list.head\n",
        "            current_other = current_other.next if current_other else self.head\n",
        "\n",
        "        return current_self\n",
        "\n",
        "# Example usage:\n",
        "# Create linked lists\n",
        "list1 = LinkedList()\n",
        "list2 = LinkedList()\n",
        "\n",
        "# Create shared nodes\n",
        "shared_node = Node(3)\n",
        "shared_node.next = Node(4)\n",
        "\n",
        "# Append nodes to list1\n",
        "list1.append(1)\n",
        "list1.append(2)\n",
        "list1.append(shared_node)\n",
        "\n",
        "# Append nodes to list2\n",
        "list2.append(9)\n",
        "list2.append(8)\n",
        "list2.append(shared_node)\n",
        "\n",
        "intersection_node = list1.intersection(list2)\n",
        "if intersection_node:\n",
        "    print(\"Intersection point found at node with value:\", intersection_node.data)\n",
        "else:\n",
        "    print(\"No intersection point found.\")\n"
      ],
      "metadata": {
        "colab": {
          "base_uri": "https://localhost:8080/"
        },
        "id": "R5ODJL4MDYd0",
        "outputId": "cd888b4c-45db-4f26-f9de-de9fc8d5b387"
      },
      "execution_count": 6,
      "outputs": [
        {
          "output_type": "stream",
          "name": "stdout",
          "text": [
            "No intersection point found.\n"
          ]
        }
      ]
    },
    {
      "cell_type": "markdown",
      "source": [
        "Problem 5: Remove duplicates from a sorted linked list.\n",
        "\n",
        "Input: 1 -> 1 -> 2 -> 3 -> 3\n",
        "Output: 1 -> 2 -> 3"
      ],
      "metadata": {
        "id": "00a4nZuFEbg7"
      }
    },
    {
      "cell_type": "code",
      "source": [
        "class Node:\n",
        "    def __init__(self, data):\n",
        "        self.data = data\n",
        "        self.next = None\n",
        "\n",
        "def removeDuplicates(head):\n",
        "    current = head\n",
        "    while current and current.next:\n",
        "        if current.data == current.next.data:\n",
        "            current.next = current.next.next\n",
        "        else:\n",
        "            current = current.next\n",
        "    return head\n",
        "\n",
        "def displayList(head):\n",
        "    current = head\n",
        "    while current:\n",
        "        print(current.data, end=\" \")\n",
        "        current = current.next\n",
        "    print()\n",
        "\n",
        "# Example usage:\n",
        "# Create the linked list\n",
        "head = Node(1)\n",
        "head.next = Node(1)\n",
        "head.next.next = Node(2)\n",
        "head.next.next.next = Node(3)\n",
        "head.next.next.next.next = Node(3)\n",
        "\n",
        "print(\"Original linked list:\")\n",
        "displayList(head)\n",
        "\n",
        "# Remove duplicates\n",
        "head = removeDuplicates(head)\n",
        "\n",
        "print(\"Linked list after removing duplicates:\")\n",
        "displayList(head)\n",
        "\n"
      ],
      "metadata": {
        "colab": {
          "base_uri": "https://localhost:8080/"
        },
        "id": "AOIg2bVYD10G",
        "outputId": "e1fdffb9-bd6d-444f-9d00-2be9292aee54"
      },
      "execution_count": 8,
      "outputs": [
        {
          "output_type": "stream",
          "name": "stdout",
          "text": [
            "Original linked list:\n",
            "1 1 2 3 3 \n",
            "Linked list after removing duplicates:\n",
            "1 2 3 \n"
          ]
        }
      ]
    },
    {
      "cell_type": "markdown",
      "source": [
        "Problem 6: Add two numbers represented by linked lists (where each node contains a single digit).\n",
        "\n",
        "\n",
        "Input: List 1: 2 -> 4 -> 3, List 2: 5 -> 6 -> 4 (represents 342 + 465)\n",
        "Output: 7 -> 0 -> 8 (represents 807)"
      ],
      "metadata": {
        "id": "bKfUEyWnExv6"
      }
    },
    {
      "cell_type": "code",
      "source": [
        "class ListNode:\n",
        "    def __init__(self, val=0):\n",
        "        self.val = val\n",
        "        self.next = None\n",
        "\n",
        "def addTwoNumbers(l1, l2):\n",
        "    dummy = ListNode()\n",
        "    current = dummy\n",
        "    carry = 0\n",
        "\n",
        "    while l1 or l2:\n",
        "        # Get the values of the current nodes (or 0 if node is None)\n",
        "        x = l1.val if l1 else 0\n",
        "        y = l2.val if l2 else 0\n",
        "\n",
        "        # Calculate the sum of current digits and carry\n",
        "        total = x + y + carry\n",
        "        carry = total // 10\n",
        "        digit = total % 10\n",
        "\n",
        "        # Create a new node with the sum digit and link it to the result list\n",
        "        current.next = ListNode(digit)\n",
        "        current = current.next\n",
        "\n",
        "        # Move to the next nodes in both lists\n",
        "        if l1:\n",
        "            l1 = l1.next\n",
        "        if l2:\n",
        "            l2 = l2.next\n",
        "\n",
        "    # If there is a carry after the last digit addition, add it as a new node\n",
        "    if carry > 0:\n",
        "        current.next = ListNode(carry)\n",
        "\n",
        "    return dummy.next\n",
        "\n",
        "def displayList(head):\n",
        "    current = head\n",
        "    while current:\n",
        "        print(current.val, end=\" \")\n",
        "        current = current.next\n",
        "    print()\n",
        "\n",
        "# Example usage:\n",
        "# Create the linked lists\n",
        "l1 = ListNode(2)\n",
        "l1.next = ListNode(4)\n",
        "l1.next.next = ListNode(3)\n",
        "\n",
        "l2 = ListNode(5)\n",
        "l2.next = ListNode(6)\n",
        "l2.next.next = ListNode(4)\n",
        "\n",
        "print(\"List 1:\")\n",
        "displayList(l1)\n",
        "print(\"List 2:\")\n",
        "displayList(l2)\n",
        "\n",
        "# Add the numbers represented by the linked lists\n",
        "result = addTwoNumbers(l1, l2)\n",
        "\n",
        "print(\"Result:\")\n",
        "displayList(result)\n"
      ],
      "metadata": {
        "colab": {
          "base_uri": "https://localhost:8080/"
        },
        "id": "ObqalKQRETJN",
        "outputId": "d0164610-0d41-4032-d859-bc6bd090037b"
      },
      "execution_count": 9,
      "outputs": [
        {
          "output_type": "stream",
          "name": "stdout",
          "text": [
            "List 1:\n",
            "2 4 3 \n",
            "List 2:\n",
            "5 6 4 \n",
            "Result:\n",
            "7 0 8 \n"
          ]
        }
      ]
    },
    {
      "cell_type": "markdown",
      "source": [
        "Problem 7: Swap nodes in pairs in a linked list.\n",
        "\n",
        "\n",
        "Input: 1 -> 2 -> 3 -> 4\n",
        "Output: 2 -> 1 -> 4 ->"
      ],
      "metadata": {
        "id": "pX0H0V-YFhbF"
      }
    },
    {
      "cell_type": "code",
      "source": [
        "class ListNode:\n",
        "    def __init__(self, val=0):\n",
        "        self.val = val\n",
        "        self.next = None\n",
        "\n",
        "def swapPairs(head):\n",
        "    dummy = ListNode(0)\n",
        "    dummy.next = head\n",
        "    prev = dummy\n",
        "\n",
        "    while prev.next and prev.next.next:\n",
        "        # Nodes to be swapped\n",
        "        first = prev.next\n",
        "        second = prev.next.next\n",
        "\n",
        "        # Swapping\n",
        "        prev.next = second\n",
        "        first.next = second.next\n",
        "        second.next = first\n",
        "\n",
        "        # Move to the next pair\n",
        "        prev = first\n",
        "\n",
        "    return dummy.next\n",
        "\n",
        "def displayList(head):\n",
        "    current = head\n",
        "    while current:\n",
        "        print(current.val, end=\" -> \")\n",
        "        current = current.next\n",
        "    print()\n",
        "\n",
        "# Example usage:\n",
        "# Create the linked list\n",
        "head = ListNode(1)\n",
        "head.next = ListNode(2)\n",
        "head.next.next = ListNode(3)\n",
        "head.next.next.next = ListNode(4)\n",
        "\n",
        "print(\"Original linked list:\")\n",
        "displayList(head)\n",
        "\n",
        "# Swap nodes in pairs\n",
        "result = swapPairs(head)\n",
        "\n",
        "print(\"Linked list after swapping pairs:\")\n",
        "displayList(result)\n"
      ],
      "metadata": {
        "colab": {
          "base_uri": "https://localhost:8080/"
        },
        "id": "8ZDc0wKJFZHX",
        "outputId": "0931d4be-ea93-43b0-cfe5-73cddf80d553"
      },
      "execution_count": 10,
      "outputs": [
        {
          "output_type": "stream",
          "name": "stdout",
          "text": [
            "Original linked list:\n",
            "1 -> 2 -> 3 -> 4 -> \n",
            "Linked list after swapping pairs:\n",
            "2 -> 1 -> 4 -> 3 -> \n"
          ]
        }
      ]
    },
    {
      "cell_type": "markdown",
      "source": [
        "Problem 8: Reverse nodes in a linked list in groups of k.\n",
        "\n",
        "Input: 1 -> 2 -> 3 -> 4 -> 5, k = 3\n",
        "Output: 3 -> 2 -> 1 -> 4 -> 5"
      ],
      "metadata": {
        "id": "oDut8vuvGJLu"
      }
    },
    {
      "cell_type": "code",
      "source": [
        "class ListNode:\n",
        "    def __init__(self, val=0):\n",
        "        self.val = val\n",
        "        self.next = None\n",
        "\n",
        "def reverseKGroup(head, k):\n",
        "    # Count the number of nodes in the list\n",
        "    count = 0\n",
        "    current = head\n",
        "    while current:\n",
        "        count += 1\n",
        "        current = current.next\n",
        "\n",
        "    # Base case: if the number of nodes is less than k, return head\n",
        "    if count < k:\n",
        "        return head\n",
        "\n",
        "    # Reverse the first k nodes\n",
        "    prev = None\n",
        "    current = head\n",
        "    for _ in range(k):\n",
        "        next_node = current.next\n",
        "        current.next = prev\n",
        "        prev = current\n",
        "        current = next_node\n",
        "\n",
        "    # Recursively call reverseKGroup for the remaining nodes\n",
        "    head.next = reverseKGroup(current, k)\n",
        "\n",
        "    return prev\n",
        "\n",
        "def displayList(head):\n",
        "    current = head\n",
        "    while current:\n",
        "        print(current.val, end=\" -> \")\n",
        "        current = current.next\n",
        "    print()\n",
        "\n",
        "# Example usage:\n",
        "# Create the linked list\n",
        "head = ListNode(1)\n",
        "head.next = ListNode(2)\n",
        "head.next.next = ListNode(3)\n",
        "head.next.next.next = ListNode(4)\n",
        "head.next.next.next.next = ListNode(5)\n",
        "\n",
        "print(\"Original linked list:\")\n",
        "displayList(head)\n",
        "\n",
        "# Reverse nodes in groups of k\n",
        "k = 3\n",
        "result = reverseKGroup(head, k)\n",
        "\n",
        "print(f\"Linked list after reversing nodes in groups of {k}:\")\n",
        "displayList(result)\n"
      ],
      "metadata": {
        "colab": {
          "base_uri": "https://localhost:8080/"
        },
        "id": "Yg3-_U4TGDTd",
        "outputId": "4eb150e2-f240-415b-bb82-6dcff104e963"
      },
      "execution_count": 11,
      "outputs": [
        {
          "output_type": "stream",
          "name": "stdout",
          "text": [
            "Original linked list:\n",
            "1 -> 2 -> 3 -> 4 -> 5 -> \n",
            "Linked list after reversing nodes in groups of 3:\n",
            "3 -> 2 -> 1 -> 4 -> 5 -> \n"
          ]
        }
      ]
    },
    {
      "cell_type": "markdown",
      "source": [
        "Problem 9: Determine if a linked list is a palindrome.\n",
        "\n",
        "Input: 1 -> 2 -> 2 -> 1\n",
        "Output: True"
      ],
      "metadata": {
        "id": "WPOv-yq4G8wH"
      }
    },
    {
      "cell_type": "code",
      "source": [
        "class ListNode:\n",
        "    def __init__(self, val=0):\n",
        "        self.val = val\n",
        "        self.next = None\n",
        "\n",
        "def isPalindrome(head):\n",
        "    # Function to reverse a linked list\n",
        "    def reverseList(head):\n",
        "        prev = None\n",
        "        current = head\n",
        "        while current:\n",
        "            next_node = current.next\n",
        "            current.next = prev\n",
        "            prev = current\n",
        "            current = next_node\n",
        "        return prev\n",
        "\n",
        "    # Find the midpoint of the linked list\n",
        "    slow = fast = head\n",
        "    while fast and fast.next:\n",
        "        slow = slow.next\n",
        "        fast = fast.next.next\n",
        "\n",
        "    # Reverse the second half of the linked list\n",
        "    second_half = reverseList(slow)\n",
        "\n",
        "    # Compare the first half with the reversed second half\n",
        "    first_half = head\n",
        "    while second_half:\n",
        "        if first_half.val != second_half.val:\n",
        "            return False\n",
        "        first_half = first_half.next\n",
        "        second_half = second_half.next\n",
        "    return True\n",
        "\n",
        "# Example usage:\n",
        "# Create the linked list\n",
        "head = ListNode(1)\n",
        "head.next = ListNode(2)\n",
        "head.next.next = ListNode(2)\n",
        "head.next.next.next = ListNode(1)\n",
        "\n",
        "print(isPalindrome(head))\n"
      ],
      "metadata": {
        "colab": {
          "base_uri": "https://localhost:8080/"
        },
        "id": "3VT7Ys2uGxBf",
        "outputId": "1cdef8cb-6c84-4b29-8ecd-d2febda358f4"
      },
      "execution_count": 13,
      "outputs": [
        {
          "output_type": "stream",
          "name": "stdout",
          "text": [
            "True\n"
          ]
        }
      ]
    },
    {
      "cell_type": "markdown",
      "source": [
        "Problem 10: Rotate a linked list to the right by k places.\n",
        "\n",
        "Input: 1 -> 2 -> 3 -> 4 -> 5, k = 2\n",
        "Output: 4 -> 5 -> 1 -> 2 -> 3"
      ],
      "metadata": {
        "id": "qDkNqGs7HP48"
      }
    },
    {
      "cell_type": "code",
      "source": [
        "class ListNode:\n",
        "    def __init__(self, val=0):\n",
        "        self.val = val\n",
        "        self.next = None\n",
        "\n",
        "def rotateRight(head, k):\n",
        "    if not head or not head.next or k == 0:\n",
        "        return head\n",
        "\n",
        "    # Calculate the length of the linked list\n",
        "    length = 1\n",
        "    tail = head\n",
        "    while tail.next:\n",
        "        length += 1\n",
        "        tail = tail.next\n",
        "\n",
        "    # Adjust k to avoid unnecessary rotations\n",
        "    k %= length\n",
        "\n",
        "    if k == 0:\n",
        "        return head\n",
        "\n",
        "    # Find the new head position\n",
        "    new_head_pos = length - k\n",
        "\n",
        "    # Traverse to the node just before the new head position\n",
        "    prev_new_head = head\n",
        "    for _ in range(new_head_pos - 1):\n",
        "        prev_new_head = prev_new_head.next\n",
        "\n",
        "    # Rotate the list\n",
        "    new_head = prev_new_head.next\n",
        "    prev_new_head.next = None\n",
        "    tail.next = head\n",
        "    head = new_head\n",
        "\n",
        "    return head\n",
        "\n",
        "def displayList(head):\n",
        "    current = head\n",
        "    while current:\n",
        "        print(current.val, end=\" -> \")\n",
        "        current = current.next\n",
        "    print()\n",
        "\n",
        "# Example usage:\n",
        "# Create the linked list\n",
        "head = ListNode(1)\n",
        "head.next = ListNode(2)\n",
        "head.next.next = ListNode(3)\n",
        "head.next.next.next = ListNode(4)\n",
        "head.next.next.next.next = ListNode(5)\n",
        "\n",
        "print(\"Original linked list:\")\n",
        "displayList(head)\n",
        "\n",
        "# Rotate the linked list to the right by k places\n",
        "k = 2\n",
        "result = rotateRight(head, k)\n",
        "\n",
        "print(\"Linked list after rotating to the right by\", k, \"places:\")\n",
        "displayList(result)\n"
      ],
      "metadata": {
        "colab": {
          "base_uri": "https://localhost:8080/"
        },
        "id": "O_wG63AzHU3W",
        "outputId": "72f43de4-40f0-4653-c2fe-422489250dd4"
      },
      "execution_count": 14,
      "outputs": [
        {
          "output_type": "stream",
          "name": "stdout",
          "text": [
            "Original linked list:\n",
            "1 -> 2 -> 3 -> 4 -> 5 -> \n",
            "Linked list after rotating to the right by 2 places:\n",
            "4 -> 5 -> 1 -> 2 -> 3 -> \n"
          ]
        }
      ]
    },
    {
      "cell_type": "markdown",
      "source": [
        "Problem 11: Flatten a multilevel doubly linked list.\n",
        "\n",
        "Input: 1 <-> 2 <-> 3 <-> 7 <-> 8 <-> 11 -> 12, 4 <-> 5 -> 9 -> 10, 6 -> 13\n",
        "\n",
        "Output: 1 <-> 2 <-> 3 <-> 4 <-> 5 <-> 6 <-> 7 <-> 8 <-> 9 <-> 10 <-> 11 <-> 12 <-> 13"
      ],
      "metadata": {
        "id": "lxYrw-1OHxl4"
      }
    },
    {
      "cell_type": "code",
      "source": [
        "class Node:\n",
        "    def __init__(self, val, prev=None, next=None, child=None):\n",
        "        self.val = val\n",
        "        self.prev = prev\n",
        "        self.next = next\n",
        "        self.child = child\n",
        "\n",
        "def flatten(head):\n",
        "    if not head:\n",
        "        return None\n",
        "\n",
        "    def merge_lists(a, b):\n",
        "        if not a:\n",
        "            return b\n",
        "        if not b:\n",
        "            return a\n",
        "\n",
        "        # Find the tail of the first list\n",
        "        tail_a = a\n",
        "        while tail_a.next:\n",
        "            tail_a = tail_a.next\n",
        "\n",
        "        # Connect the tail of the first list to the head of the second list\n",
        "        tail_a.next = b\n",
        "        b.prev = tail_a\n",
        "\n",
        "        return a\n",
        "\n",
        "    current = head\n",
        "    while current:\n",
        "        if current.child:\n",
        "            # Flatten the child list and merge it with the current list\n",
        "            child_head = flatten(current.child)\n",
        "            current.child = None\n",
        "            if child_head:\n",
        "                current.next = merge_lists(current.next, child_head)\n",
        "                current.next.prev = current\n",
        "        current = current.next\n",
        "\n",
        "    return head\n",
        "\n",
        "def displayList(head):\n",
        "    current = head\n",
        "    while current:\n",
        "        print(current.val, end=\" <-> \")\n",
        "        current = current.next\n",
        "    print()\n",
        "\n",
        "# Example usage:\n",
        "# Create the multilevel doubly linked list\n",
        "head = Node(1)\n",
        "head.next = Node(2)\n",
        "head.next.prev = head\n",
        "head.next.next = Node(3)\n",
        "head.next.next.prev = head.next\n",
        "head.next.next.next = Node(7)\n",
        "head.next.next.next.prev = head.next.next\n",
        "head.next.next.next.next = Node(8)\n",
        "head.next.next.next.next.prev = head.next.next.next\n",
        "head.next.next.next.next.next = Node(11)\n",
        "head.next.next.next.next.next.prev = head.next.next.next.next\n",
        "head.next.next.next.next.next.next = Node(12)\n",
        "head.next.next.next.next.next.next.prev = head.next.next.next.next\n",
        "\n",
        "head.child = Node(4)\n",
        "head.child.next = Node(5)\n",
        "head.child.next.prev = head.child\n",
        "head.child.next.next = Node(9)\n",
        "head.child.next.next.prev = head.child.next\n",
        "head.child.next.next.next = Node(10)\n",
        "head.child.next.next.next.prev = head.child.next.next\n",
        "\n",
        "head.next.next.next.child = Node(6)\n",
        "head.next.next.next.child.next = Node(13)\n",
        "\n",
        "print(\"Original multilevel doubly linked list:\")\n",
        "displayList(head)\n",
        "\n",
        "# Flatten the multilevel doubly linked list\n",
        "flattened_head = flatten(head)\n",
        "\n",
        "print(\"Flattened doubly linked list:\")\n",
        "displayList(flattened_head)\n"
      ],
      "metadata": {
        "colab": {
          "base_uri": "https://localhost:8080/"
        },
        "id": "CB8fpAD_HoJk",
        "outputId": "93932580-70e4-4d24-fe01-a4b19590ab32"
      },
      "execution_count": 15,
      "outputs": [
        {
          "output_type": "stream",
          "name": "stdout",
          "text": [
            "Original multilevel doubly linked list:\n",
            "1 <-> 2 <-> 3 <-> 7 <-> 8 <-> 11 <-> 12 <-> \n",
            "Flattened doubly linked list:\n",
            "1 <-> 2 <-> 3 <-> 7 <-> 8 <-> 11 <-> 12 <-> 4 <-> 5 <-> 9 <-> 10 <-> 6 <-> 13 <-> \n"
          ]
        }
      ]
    },
    {
      "cell_type": "markdown",
      "source": [
        "Problem 12: Rearrange a linked list such that all even positioned nodes are placed  at the end .\n",
        "\n",
        "Input: 1 -> 2 -> 3 -> 4 -> 5\n",
        "Output: 1 -> 3 -> 5 -> 2 -> 4"
      ],
      "metadata": {
        "id": "P0jPA__IK-EM"
      }
    },
    {
      "cell_type": "code",
      "source": [
        "class ListNode:\n",
        "    def __init__(self, val=0):\n",
        "        self.val = val\n",
        "        self.next = None\n",
        "\n",
        "def rearrangeLinkedList(head):\n",
        "    if not head or not head.next:\n",
        "        return head\n",
        "\n",
        "    # Initialize two pointers for odd and even positioned nodes\n",
        "    odd_head = ListNode()\n",
        "    even_head = ListNode()\n",
        "    odd_ptr = odd_head\n",
        "    even_ptr = even_head\n",
        "\n",
        "    # Traverse the original list and split the nodes into odd and even lists\n",
        "    current = head\n",
        "    count = 1\n",
        "    while current:\n",
        "        if count % 2 == 1:  # Odd-positioned node\n",
        "            odd_ptr.next = current\n",
        "            odd_ptr = odd_ptr.next\n",
        "        else:  # Even-positioned node\n",
        "            even_ptr.next = current\n",
        "            even_ptr = even_ptr.next\n",
        "        current = current.next\n",
        "        count += 1\n",
        "\n",
        "    # Connect the end of the odd list to the start of the even list\n",
        "    odd_ptr.next = even_head.next\n",
        "    # Set the end of the even list to None to terminate the list\n",
        "    even_ptr.next = None\n",
        "\n",
        "    return odd_head.next\n",
        "\n",
        "def displayList(head):\n",
        "    current = head\n",
        "    while current:\n",
        "        print(current.val, end=\" -> \")\n",
        "        current = current.next\n",
        "    print()\n",
        "\n",
        "# Example usage:\n",
        "# Create the linked list\n",
        "head = ListNode(1)\n",
        "head.next = ListNode(2)\n",
        "head.next.next = ListNode(3)\n",
        "head.next.next.next = ListNode(4)\n",
        "head.next.next.next.next = ListNode(5)\n",
        "\n",
        "print(\"Original linked list:\")\n",
        "displayList(head)\n",
        "\n",
        "# Rearrange the linked list such that all even positioned nodes are placed at the end\n",
        "result = rearrangeLinkedList(head)\n",
        "\n",
        "print(\"Rearranged linked list:\")\n",
        "displayList(result)\n"
      ],
      "metadata": {
        "colab": {
          "base_uri": "https://localhost:8080/"
        },
        "id": "c2t_y1ofKtoO",
        "outputId": "be88b077-94ef-4024-f6db-6635100b0f1a"
      },
      "execution_count": 16,
      "outputs": [
        {
          "output_type": "stream",
          "name": "stdout",
          "text": [
            "Original linked list:\n",
            "1 -> 2 -> 3 -> 4 -> 5 -> \n",
            "Rearranged linked list:\n",
            "1 -> 3 -> 5 -> 2 -> 4 -> \n"
          ]
        }
      ]
    },
    {
      "cell_type": "markdown",
      "source": [
        "Problem 13: Given a non-negative number represented as a linked list, add one to it .\n",
        "\n",
        "Input: 1 -> 2 -> 3 (represents the number 123)\n",
        "\n",
        "Output: 1 -> 2 -> 4 (represents the number 124)\n"
      ],
      "metadata": {
        "id": "R1Xddw5ALZhL"
      }
    },
    {
      "cell_type": "code",
      "source": [
        "class ListNode:\n",
        "    def __init__(self, val=0):\n",
        "        self.val = val\n",
        "        self.next = None\n",
        "\n",
        "def reverseList(head):\n",
        "    prev = None\n",
        "    current = head\n",
        "    while current:\n",
        "        next_node = current.next\n",
        "        current.next = prev\n",
        "        prev = current\n",
        "        current = next_node\n",
        "    return prev\n",
        "\n",
        "def addOne(head):\n",
        "    # Reverse the list\n",
        "    head = reverseList(head)\n",
        "\n",
        "    # Add one to the first node\n",
        "    current = head\n",
        "    carry = 1\n",
        "    while carry:\n",
        "        current.val += 1\n",
        "        if current.val >= 10:\n",
        "            current.val -= 10\n",
        "            if current.next:\n",
        "                current = current.next\n",
        "            else:\n",
        "                current.next = ListNode(0)\n",
        "                current = current.next\n",
        "        else:\n",
        "            carry = 0\n",
        "\n",
        "    # Reverse the list back to its original order\n",
        "    head = reverseList(head)\n",
        "\n",
        "    return head\n",
        "\n",
        "def displayList(head):\n",
        "    current = head\n",
        "    while current:\n",
        "        print(current.val, end=\" -> \")\n",
        "        current = current.next\n",
        "    print()\n",
        "\n",
        "# Example usage:\n",
        "# Create the linked list representing the number 123\n",
        "head = ListNode(1)\n",
        "head.next = ListNode(2)\n",
        "head.next.next = ListNode(3)\n",
        "\n",
        "print(\"Original linked list:\")\n",
        "displayList(head)\n",
        "\n",
        "# Add one to the linked list\n",
        "result = addOne(head)\n",
        "\n",
        "print(\"Linked list after adding one:\")\n",
        "displayList(result)\n"
      ],
      "metadata": {
        "colab": {
          "base_uri": "https://localhost:8080/"
        },
        "id": "Y6PKApj9Ls_W",
        "outputId": "e3b19222-15f4-43ec-c078-6807f4627d2b"
      },
      "execution_count": 17,
      "outputs": [
        {
          "output_type": "stream",
          "name": "stdout",
          "text": [
            "Original linked list:\n",
            "1 -> 2 -> 3 -> \n",
            "Linked list after adding one:\n",
            "1 -> 2 -> 4 -> \n"
          ]
        }
      ]
    },
    {
      "cell_type": "markdown",
      "source": [
        "Problem 14: Given a sorted array and a target value, return the index if the target is found. If not, return the\n",
        "index where it would be inserted.\n",
        "\n",
        "Input: nums = [1, 3, 5, 6], target = 5\n",
        "Output: 2"
      ],
      "metadata": {
        "id": "Y0qptfAbMIhP"
      }
    },
    {
      "cell_type": "code",
      "source": [
        "def searchInsert(nums, target):\n",
        "    left, right = 0, len(nums) - 1\n",
        "\n",
        "    while left <= right:\n",
        "        mid = (left + right) // 2\n",
        "        if nums[mid] == target:\n",
        "            return mid\n",
        "        elif nums[mid] < target:\n",
        "            left = mid + 1\n",
        "        else:\n",
        "            right = mid - 1\n",
        "\n",
        "    # If target is not found, left will be the position where it should be inserted\n",
        "    return left\n",
        "\n",
        "# Example usage:\n",
        "nums = [1, 3, 5, 6]\n",
        "target = 5\n",
        "\n",
        "print( searchInsert(nums, target))\n"
      ],
      "metadata": {
        "colab": {
          "base_uri": "https://localhost:8080/"
        },
        "id": "8Js55YzcL_-_",
        "outputId": "60eb499e-f922-4b09-ccbd-d9b329ac1981"
      },
      "execution_count": 19,
      "outputs": [
        {
          "output_type": "stream",
          "name": "stdout",
          "text": [
            "2\n"
          ]
        }
      ]
    },
    {
      "cell_type": "markdown",
      "source": [
        "Problem 15: Find the minimum element in a rotated sorted array.\n",
        "\n",
        "Input: [4, 5, 6, 7, 0, 1, 2]\n",
        "Output: 0"
      ],
      "metadata": {
        "id": "GCxL30BQMWND"
      }
    },
    {
      "cell_type": "code",
      "source": [
        "def findMin(nums):\n",
        "    left, right = 0, len(nums) - 1\n",
        "\n",
        "    while left < right:\n",
        "        mid = (left + right) // 2\n",
        "\n",
        "        # If the mid element is greater than the last element, search in the right half\n",
        "        if nums[mid] > nums[right]:\n",
        "            left = mid + 1\n",
        "        # If the mid element is less than or equal to the last element, search in the left half\n",
        "        else:\n",
        "            right = mid\n",
        "\n",
        "    # At the end of the loop, left will be pointing to the minimum element\n",
        "    return nums[left]\n",
        "\n",
        "# Example usage:\n",
        "nums = [4, 5, 6, 7, 0, 1, 2]\n",
        "print(\"Minimum element in the rotated sorted array:\", findMin(nums))\n"
      ],
      "metadata": {
        "colab": {
          "base_uri": "https://localhost:8080/"
        },
        "id": "V0C6kjmaMbUc",
        "outputId": "8368c1be-1d37-4d2f-c1b9-299b9b7ae69c"
      },
      "execution_count": 20,
      "outputs": [
        {
          "output_type": "stream",
          "name": "stdout",
          "text": [
            "Minimum element in the rotated sorted array: 0\n"
          ]
        }
      ]
    },
    {
      "cell_type": "markdown",
      "source": [
        "Problem 16: Search for a target value in a rotated sorted array.\n",
        "\n",
        "Input: nums = [4, 5, 6, 7, 0, 1, 2], target = 0\n",
        "Output: 4"
      ],
      "metadata": {
        "id": "9hG54EOkNELW"
      }
    },
    {
      "cell_type": "code",
      "source": [
        "def search(nums, target):\n",
        "    left, right = 0, len(nums) - 1\n",
        "\n",
        "    while left <= right:\n",
        "        mid = (left + right) // 2\n",
        "\n",
        "        if nums[mid] == target:\n",
        "            return mid\n",
        "\n",
        "        # Check which half of the array is sorted\n",
        "        if nums[left] <= nums[mid]:  # Left half is sorted\n",
        "            if nums[left] <= target < nums[mid]:  # Target is in the left half\n",
        "                right = mid - 1\n",
        "            else:\n",
        "                left = mid + 1\n",
        "        else:  # Right half is sorted\n",
        "            if nums[mid] < target <= nums[right]:  # Target is in the right half\n",
        "                left = mid + 1\n",
        "            else:\n",
        "                right = mid - 1\n",
        "\n",
        "    return -1  # Target not found\n",
        "\n",
        "# Example usage:\n",
        "nums = [4, 5, 6, 7, 0, 1, 2]\n",
        "target = 0\n",
        "print(\"Index of target value in rotated sorted array:\", search(nums, target))\n"
      ],
      "metadata": {
        "colab": {
          "base_uri": "https://localhost:8080/"
        },
        "id": "Y-LzBdv3M-mu",
        "outputId": "77a3b253-8d0e-4c14-b1c3-8adec95aeae4"
      },
      "execution_count": 21,
      "outputs": [
        {
          "output_type": "stream",
          "name": "stdout",
          "text": [
            "Index of target value in rotated sorted array: 4\n"
          ]
        }
      ]
    },
    {
      "cell_type": "markdown",
      "source": [
        "Problem 17: Find the peak element in an array. A peak element is greater than its neighbors.\n",
        "\n",
        "Input: nums = [1, 2, 3, 1]\n",
        "Output: 2 (index of peak element)"
      ],
      "metadata": {
        "id": "qG3vgLgjNTIb"
      }
    },
    {
      "cell_type": "code",
      "source": [
        "def findPeakElement(nums):\n",
        "    left, right = 0, len(nums) - 1\n",
        "\n",
        "    while left < right:\n",
        "        mid = (left + right) // 2\n",
        "\n",
        "        # Check if the mid element is greater than its neighbors\n",
        "        if nums[mid] > nums[mid + 1]:\n",
        "            right = mid\n",
        "        else:\n",
        "            left = mid + 1\n",
        "\n",
        "    # At the end of the loop, left will be pointing to the peak element\n",
        "    return left\n",
        "\n",
        "# Example usage:\n",
        "nums = [1, 2, 3, 1]\n",
        "print(\"Index of peak element:\", findPeakElement(nums))\n"
      ],
      "metadata": {
        "colab": {
          "base_uri": "https://localhost:8080/"
        },
        "id": "brJRa2IGNX0H",
        "outputId": "09e2afe9-8047-42fa-ce8d-dc182fbdc1ab"
      },
      "execution_count": 22,
      "outputs": [
        {
          "output_type": "stream",
          "name": "stdout",
          "text": [
            "Index of peak element: 2\n"
          ]
        }
      ]
    },
    {
      "cell_type": "markdown",
      "source": [
        "Problem 18: Given a m x n matrix where each row and column is sorted in ascending order, count the number\n",
        "of negative numbers.\n",
        "\n",
        "Input: grid = [[4, 3, 2, -1], [3, 2, 1, -1], [1, 1, -1, -2], [-1, -1, -2, -3]]\n",
        "Output: 8"
      ],
      "metadata": {
        "id": "Z1uNtd7RNs3H"
      }
    },
    {
      "cell_type": "code",
      "source": [
        "def countNegatives(grid):\n",
        "    rows = len(grid)\n",
        "    cols = len(grid[0])\n",
        "\n",
        "    count = 0\n",
        "    row = 0\n",
        "    col = cols - 1\n",
        "\n",
        "    while row < rows and col >= 0:\n",
        "        if grid[row][col] < 0:\n",
        "            count += rows - row  # All elements below the current position are negative\n",
        "            col -= 1  # Move left to check for more negative numbers in the same row\n",
        "        else:\n",
        "            row += 1  # Move down to check the next row\n",
        "\n",
        "    return count\n",
        "\n",
        "# Example usage:\n",
        "grid = [\n",
        "    [4, 3, 2, -1],\n",
        "    [3, 2, 1, -1],\n",
        "    [1, 1, -1, -2],\n",
        "    [-1, -1, -2, -3]\n",
        "]\n",
        "\n",
        "print(\"Number of negative numbers:\", countNegatives(grid))\n"
      ],
      "metadata": {
        "colab": {
          "base_uri": "https://localhost:8080/"
        },
        "id": "NGWkTLQeN9cx",
        "outputId": "d8edfddc-f405-4f67-ac54-48eeff094faf"
      },
      "execution_count": 23,
      "outputs": [
        {
          "output_type": "stream",
          "name": "stdout",
          "text": [
            "Number of negative numbers: 8\n"
          ]
        }
      ]
    },
    {
      "cell_type": "markdown",
      "source": [
        "Problem 19: Given a 2D matrix sorted in ascending order in each row, and the first integer of each row is\n",
        "greater than the last integer of the previous row, determine if a target value is present in the matrix.\n",
        "\n",
        "Input: matrix = [[1, 3, 5, 7], [10, 11, 16, 20], [23, 30, 34, 60]], target = 3\n",
        "Output: True"
      ],
      "metadata": {
        "id": "wOjUBtz9OO2l"
      }
    },
    {
      "cell_type": "code",
      "source": [
        "def searchMatrix(matrix, target):\n",
        "    if not matrix or not matrix[0]:\n",
        "        return False\n",
        "\n",
        "    rows = len(matrix)\n",
        "    cols = len(matrix[0])\n",
        "\n",
        "    left, right = 0, rows * cols - 1\n",
        "\n",
        "    while left <= right:\n",
        "        mid = (left + right) // 2\n",
        "        mid_element = matrix[mid // cols][mid % cols]\n",
        "\n",
        "        if mid_element == target:\n",
        "            return True\n",
        "        elif mid_element < target:\n",
        "            left = mid + 1\n",
        "        else:\n",
        "            right = mid - 1\n",
        "\n",
        "    return False\n",
        "\n",
        "# Example usage:\n",
        "matrix = [\n",
        "    [1, 3, 5, 7],\n",
        "    [10, 11, 16, 20],\n",
        "    [23, 30, 34, 60]\n",
        "]\n",
        "target = 3\n",
        "\n",
        "print(\"Target value present in matrix:\", searchMatrix(matrix, target))\n"
      ],
      "metadata": {
        "colab": {
          "base_uri": "https://localhost:8080/"
        },
        "id": "vbQ2FowAOGd1",
        "outputId": "298731bb-5add-4a1a-8b07-04aec65a7d64"
      },
      "execution_count": 24,
      "outputs": [
        {
          "output_type": "stream",
          "name": "stdout",
          "text": [
            "Target value present in matrix: True\n"
          ]
        }
      ]
    },
    {
      "cell_type": "markdown",
      "source": [
        "Problem 20: Find Median in Two Sorted Arrays\n",
        "Problem: Given two sorted arrays, find the median of the combined sorted array.\n",
        "\n",
        "Input: nums1 = [1, 3], nums2 = [2]\n",
        "Output: 2.0"
      ],
      "metadata": {
        "id": "V96JvhlqOhCd"
      }
    },
    {
      "cell_type": "code",
      "source": [
        "def findMedianSortedArrays(nums1, nums2):\n",
        "    m, n = len(nums1), len(nums2)\n",
        "    total_length = m + n\n",
        "    merged = []\n",
        "\n",
        "    i, j = 0, 0\n",
        "    while i < m and j < n:\n",
        "        if nums1[i] <= nums2[j]:\n",
        "            merged.append(nums1[i])\n",
        "            i += 1\n",
        "        else:\n",
        "            merged.append(nums2[j])\n",
        "            j += 1\n",
        "\n",
        "    while i < m:\n",
        "        merged.append(nums1[i])\n",
        "        i += 1\n",
        "\n",
        "    while j < n:\n",
        "        merged.append(nums2[j])\n",
        "        j += 1\n",
        "\n",
        "    if total_length % 2 == 0:\n",
        "        median_index = total_length // 2\n",
        "        return (merged[median_index - 1] + merged[median_index]) / 2\n",
        "    else:\n",
        "        median_index = total_length // 2\n",
        "        return merged[median_index]\n",
        "\n",
        "# Example usage:\n",
        "nums1 = [1, 3]\n",
        "nums2 = [2]\n",
        "\n",
        "print(\"Median of the combined sorted array:\", findMedianSortedArrays(nums1, nums2))\n"
      ],
      "metadata": {
        "colab": {
          "base_uri": "https://localhost:8080/"
        },
        "id": "1J0HW_8zOk0c",
        "outputId": "68263d05-04be-4a97-8575-69a161103e09"
      },
      "execution_count": 25,
      "outputs": [
        {
          "output_type": "stream",
          "name": "stdout",
          "text": [
            "Median of the combined sorted array: 2\n"
          ]
        }
      ]
    },
    {
      "cell_type": "markdown",
      "source": [
        "Problem 21: Given a sorted character array and a target letter, find the smallest letter in the array that is\n",
        "greater than the target.\n",
        "\n",
        "Input: letters = ['c', 'f', 'j'], target = a\n",
        "Output: 'c'"
      ],
      "metadata": {
        "id": "BCIBex46O2VN"
      }
    },
    {
      "cell_type": "code",
      "source": [
        "def nextGreatestLetter(letters, target):\n",
        "    left, right = 0, len(letters) - 1\n",
        "\n",
        "    while left <= right:\n",
        "        mid = left + (right - left) // 2\n",
        "        if letters[mid] <= target:\n",
        "            left = mid + 1\n",
        "        else:\n",
        "            right = mid - 1\n",
        "\n",
        "    # If the target is greater than all elements, return the first element\n",
        "    if left >= len(letters):\n",
        "        return letters[0]\n",
        "    else:\n",
        "        return letters[left]\n",
        "\n",
        "# Example usage:\n",
        "letters = ['c', 'f', 'j']\n",
        "target = 'a'\n",
        "\n",
        "print(\"Smallest letter greater than\", target, \":\", nextGreatestLetter(letters, target))\n",
        "\n"
      ],
      "metadata": {
        "colab": {
          "base_uri": "https://localhost:8080/"
        },
        "id": "0zM3psohOvMq",
        "outputId": "fc0bf262-19a4-4351-9788-6c12cd680773"
      },
      "execution_count": 26,
      "outputs": [
        {
          "output_type": "stream",
          "name": "stdout",
          "text": [
            "Smallest letter greater than a : c\n"
          ]
        }
      ]
    },
    {
      "cell_type": "markdown",
      "source": [
        "Problem 22: Given an array with n objects colored red, white, or blue, sort them in-place so that objects of\n",
        "the same color are adjacent, with the colors in the order red, white, and blue.\n",
        "\n",
        "Input: nums = [2, 0, 2, 1, 1, 0]\n",
        "Output: [0, 0, 1, 1, 2, 2]"
      ],
      "metadata": {
        "id": "gzhdENlmPGes"
      }
    },
    {
      "cell_type": "code",
      "source": [
        "def sortColors(nums):\n",
        "    # Initialize three pointers: low, mid, and high\n",
        "    low, mid, high = 0, 0, len(nums) - 1\n",
        "\n",
        "    # Iterate until mid crosses high\n",
        "    while mid <= high:\n",
        "        if nums[mid] == 0:\n",
        "            # If the current element is 0, swap it with the element at the low pointer\n",
        "            nums[mid], nums[low] = nums[low], nums[mid]\n",
        "            # Increment both low and mid pointers\n",
        "            low += 1\n",
        "            mid += 1\n",
        "        elif nums[mid] == 1:\n",
        "            # If the current element is 1, just move the mid pointer forward\n",
        "            mid += 1\n",
        "        else:\n",
        "            # If the current element is 2, swap it with the element at the high pointer\n",
        "            nums[mid], nums[high] = nums[high], nums[mid]\n",
        "            # Decrement the high pointer\n",
        "            high -= 1\n",
        "\n",
        "    return nums\n",
        "\n",
        "# Example usage:\n",
        "nums = [2, 0, 2, 1, 1, 0]\n",
        "print(\"Input array:\", nums)\n",
        "print(\"Sorted array:\", sortColors(nums))\n"
      ],
      "metadata": {
        "colab": {
          "base_uri": "https://localhost:8080/"
        },
        "id": "y65NZ_MxPLM7",
        "outputId": "11decd2d-6488-45ea-986b-4ec7bcb36331"
      },
      "execution_count": 27,
      "outputs": [
        {
          "output_type": "stream",
          "name": "stdout",
          "text": [
            "Input array: [2, 0, 2, 1, 1, 0]\n",
            "Sorted array: [0, 0, 1, 1, 2, 2]\n"
          ]
        }
      ]
    },
    {
      "cell_type": "markdown",
      "source": [
        "Problem 23: Find the kth largest element in an unsorted array.\n",
        "\n",
        "Input: nums = [3, 2, 1, 5, 6, 4], k = 2\n",
        "Output: 5\n"
      ],
      "metadata": {
        "id": "KnWOmgbZPrdl"
      }
    },
    {
      "cell_type": "code",
      "source": [
        "import heapq\n",
        "\n",
        "def findKthLargest(nums, k):\n",
        "    # Create a min heap of size k\n",
        "    heap = []\n",
        "    for num in nums:\n",
        "        heapq.heappush(heap, num)\n",
        "        if len(heap) > k:\n",
        "            heapq.heappop(heap)\n",
        "\n",
        "    # The top element of the heap is the kth largest element\n",
        "    return heap[0]\n",
        "\n",
        "nums = [3, 2, 1, 5, 6, 4]\n",
        "print(findKthLargest(nums,2))\n"
      ],
      "metadata": {
        "colab": {
          "base_uri": "https://localhost:8080/"
        },
        "id": "D7pkcQwEPjhd",
        "outputId": "4f79e6cd-25e0-4eab-c621-ad385a17ece7"
      },
      "execution_count": 31,
      "outputs": [
        {
          "output_type": "stream",
          "name": "stdout",
          "text": [
            "5\n"
          ]
        }
      ]
    },
    {
      "cell_type": "markdown",
      "source": [
        "Problem 24: Given an unsorted array, reorder it in-place such that nums[0] <= nums[1] >= nums[2] <=\n",
        "nums[3]...\n",
        "\n",
        "Input: nums = [3, 5, 2, 1, 6, 4]\n",
        "Output: [3, 5, 1, 6, 2, 4]\n"
      ],
      "metadata": {
        "id": "gKeENlO2P98g"
      }
    },
    {
      "cell_type": "code",
      "source": [
        "def wiggleSort(nums):\n",
        "    # Sort the array\n",
        "    nums.sort()\n",
        "\n",
        "    # Iterate over the array starting from index 1\n",
        "    for i in range(1, len(nums) - 1, 2):\n",
        "        nums[i], nums[i + 1] = nums[i + 1], nums[i]  # Swap adjacent elements\n",
        "\n",
        "    return nums\n",
        "\n",
        "# Example usage:\n",
        "nums = [3, 5, 2, 1, 6, 4]\n",
        "print(\"Original array:\", nums)\n",
        "result = wiggleSort(nums)\n",
        "print(\"Reordered array:\", result)\n"
      ],
      "metadata": {
        "colab": {
          "base_uri": "https://localhost:8080/"
        },
        "id": "vBdnjWbrQOrn",
        "outputId": "e09fe955-51f8-4fde-8b30-ce39d02dcfbd"
      },
      "execution_count": 32,
      "outputs": [
        {
          "output_type": "stream",
          "name": "stdout",
          "text": [
            "Original array: [3, 5, 2, 1, 6, 4]\n",
            "Reordered array: [1, 3, 2, 5, 4, 6]\n"
          ]
        }
      ]
    },
    {
      "cell_type": "markdown",
      "source": [
        "Problem 25: Given an array of integers, calculate the sum of all its elements.\n",
        "\n",
        "Input: [1, 2, 3, 4, 5]\n",
        "Output: 15"
      ],
      "metadata": {
        "id": "jVx1hqApRq8K"
      }
    },
    {
      "cell_type": "code",
      "source": [
        "def calculate_sum(nums):\n",
        "    total_sum = 0\n",
        "    for num in nums:\n",
        "        total_sum += num\n",
        "    return total_sum\n",
        "\n",
        "# Example usage:\n",
        "input_array = [1, 2, 3, 4, 5]\n",
        "output_sum = calculate_sum(input_array)\n",
        "print(\"Sum of all elements:\", output_sum)\n"
      ],
      "metadata": {
        "colab": {
          "base_uri": "https://localhost:8080/"
        },
        "id": "sFPhaY9ORd2m",
        "outputId": "d06424b2-1bf1-4744-b560-f2a8b6dcf346"
      },
      "execution_count": 33,
      "outputs": [
        {
          "output_type": "stream",
          "name": "stdout",
          "text": [
            "Sum of all elements: 15\n"
          ]
        }
      ]
    },
    {
      "cell_type": "markdown",
      "source": [
        "Problem 26: Find the maximum element in an array of integers.\n",
        "\n",
        "Input: [3, 7, 2, 9, 4, 1]\n",
        "Output: 9"
      ],
      "metadata": {
        "id": "Kau9nsUOR-Vq"
      }
    },
    {
      "cell_type": "code",
      "source": [
        "def find_maximum(nums):\n",
        "    if not nums:\n",
        "        return None\n",
        "\n",
        "    max_element = nums[0]  # Assume the first element as the maximum\n",
        "\n",
        "    for num in nums:\n",
        "        if num > max_element:\n",
        "            max_element = num\n",
        "\n",
        "    return max_element\n",
        "\n",
        "# Example usage:\n",
        "input_array = [3, 7, 2, 9, 4, 1]\n",
        "max_num = find_maximum(input_array)\n",
        "print(\"Maximum element:\", max_num)\n"
      ],
      "metadata": {
        "colab": {
          "base_uri": "https://localhost:8080/"
        },
        "id": "sFPxZcS0SCti",
        "outputId": "cc429c76-8dfd-4174-c740-0189ededff2e"
      },
      "execution_count": 34,
      "outputs": [
        {
          "output_type": "stream",
          "name": "stdout",
          "text": [
            "Maximum element: 9\n"
          ]
        }
      ]
    },
    {
      "cell_type": "markdown",
      "source": [
        "Problem 27: Implement linear search to find the index of a target element in an array.\n",
        "\n",
        "Input: [5, 3, 8, 2, 7, 4], target = 8\n",
        "Output: 2"
      ],
      "metadata": {
        "id": "7nuxRVJQSet3"
      }
    },
    {
      "cell_type": "code",
      "source": [
        "def linear_search(nums, target):\n",
        "    for i in range(len(nums)):\n",
        "        if nums[i] == target:\n",
        "            return i\n",
        "    return -1  # If target is not found\n",
        "\n",
        "# Example usage:\n",
        "input_array = [5, 3, 8, 2, 7, 4]\n",
        "target = 8\n",
        "index = linear_search(input_array, target)\n",
        "if index != -1:\n",
        "    print(\"Index of\", target, \":\", index)\n",
        "else:\n",
        "    print(\"Target\", target, \"not found in the array.\")\n"
      ],
      "metadata": {
        "colab": {
          "base_uri": "https://localhost:8080/"
        },
        "id": "z9SqGJR4Sonx",
        "outputId": "e7c2ce9e-d3ff-4e2f-a838-b781b393f5fe"
      },
      "execution_count": 35,
      "outputs": [
        {
          "output_type": "stream",
          "name": "stdout",
          "text": [
            "Index of 8 : 2\n"
          ]
        }
      ]
    },
    {
      "cell_type": "markdown",
      "source": [
        "Problem 28 Calculate the factorial of a given number.\n",
        "\n",
        "Input: 5\n",
        "Output: 120 (as 5! = 5 * 4 * 3 * 2 * 1 = 120)"
      ],
      "metadata": {
        "id": "M3r7w7idSywX"
      }
    },
    {
      "cell_type": "code",
      "source": [
        "def factorial(n):\n",
        "    if n == 0:\n",
        "        return 1\n",
        "    result = 1\n",
        "    for i in range(1, n + 1):\n",
        "        result *= i\n",
        "    return result\n",
        "\n",
        "# Example usage:\n",
        "input_number = 5\n",
        "print(\"Factorial of\", input_number, \":\", factorial(input_number))\n"
      ],
      "metadata": {
        "colab": {
          "base_uri": "https://localhost:8080/"
        },
        "id": "6cP8p7iGS3PL",
        "outputId": "0c39faa7-aaf8-4aed-e06b-674200a31d7a"
      },
      "execution_count": 36,
      "outputs": [
        {
          "output_type": "stream",
          "name": "stdout",
          "text": [
            "Factorial of 5 : 120\n"
          ]
        }
      ]
    },
    {
      "cell_type": "markdown",
      "source": [
        "Problem 29: Check if a given number is a prime number.\n",
        "\n",
        "Input: 7\n",
        "Output: True"
      ],
      "metadata": {
        "id": "8goFOQZ_TQku"
      }
    },
    {
      "cell_type": "code",
      "source": [
        "def is_prime(n):\n",
        "    if n <= 1:\n",
        "        return False\n",
        "    elif n <= 3:\n",
        "        return True\n",
        "    elif n % 2 == 0 or n % 3 == 0:\n",
        "        return False\n",
        "    i = 5\n",
        "    while i * i <= n:\n",
        "        if n % i == 0 or n % (i + 2) == 0:\n",
        "            return False\n",
        "        i += 6\n",
        "    return True\n",
        "\n",
        "# Example usage:\n",
        "input_number = 7\n",
        "print( is_prime(input_number))\n"
      ],
      "metadata": {
        "colab": {
          "base_uri": "https://localhost:8080/"
        },
        "id": "kuqo7zZ_TU49",
        "outputId": "204d3d7d-3a1d-4e08-99bc-204e59dce49c"
      },
      "execution_count": 38,
      "outputs": [
        {
          "output_type": "stream",
          "name": "stdout",
          "text": [
            "True\n"
          ]
        }
      ]
    },
    {
      "cell_type": "markdown",
      "source": [
        "Problem 30: Generate the Fibonacci series up to a given number n.\n",
        "\n",
        "Input: 8\n",
        "Output: [0, 1, 1, 2, 3, 5, 8, 13]"
      ],
      "metadata": {
        "id": "IvRky-O0TfrB"
      }
    },
    {
      "cell_type": "code",
      "source": [
        "def generate_fibonacci_series(n):\n",
        "    fibonacci_series = [0, 1]\n",
        "    while fibonacci_series[-1] + fibonacci_series[-2] <= n:\n",
        "        fibonacci_series.append(fibonacci_series[-1] + fibonacci_series[-2])\n",
        "    return fibonacci_series\n",
        "\n",
        "# Example usage:\n",
        "n = 8\n",
        "print(\"Fibonacci series up to\", n, \":\", generate_fibonacci_series(n))\n"
      ],
      "metadata": {
        "colab": {
          "base_uri": "https://localhost:8080/"
        },
        "id": "6d9ISXFDTsD8",
        "outputId": "c16d6409-0ed5-48b5-c6f4-560135585aaa"
      },
      "execution_count": 39,
      "outputs": [
        {
          "output_type": "stream",
          "name": "stdout",
          "text": [
            "Fibonacci series up to 8 : [0, 1, 1, 2, 3, 5, 8]\n"
          ]
        }
      ]
    },
    {
      "cell_type": "markdown",
      "source": [
        "Problem 31: Calculate the power of a number using recursion.\n",
        "\n",
        "Input: base = 3, exponent = 4\n",
        "Output: 81 (as 3^4 = 3 * 3 * 3 * 3 = 81)"
      ],
      "metadata": {
        "id": "ycFBp1zrUDJY"
      }
    },
    {
      "cell_type": "code",
      "source": [
        "def power(base, exponent):\n",
        "    # Base case: when exponent is 0, return 1\n",
        "    if exponent == 0:\n",
        "        return 1\n",
        "    # Recursive case: multiply base by itself recursively for exponent - 1\n",
        "    return base * power(base, exponent - 1)\n",
        "\n",
        "# Example usage:\n",
        "base = 3\n",
        "exponent = 4\n",
        "print(\"Result:\", power(base, exponent))\n"
      ],
      "metadata": {
        "colab": {
          "base_uri": "https://localhost:8080/"
        },
        "id": "AhKwzaTTUG5-",
        "outputId": "4eccfa3a-6911-4ff3-ca8b-1e6ec3a9a0ea"
      },
      "execution_count": 40,
      "outputs": [
        {
          "output_type": "stream",
          "name": "stdout",
          "text": [
            "Result: 81\n"
          ]
        }
      ]
    },
    {
      "cell_type": "markdown",
      "source": [
        "Problem 32: Reverse a given string.\n",
        "\n",
        "Input: \"hello\"\n",
        "Output: \"olleh\""
      ],
      "metadata": {
        "id": "WqY5aATDUgg1"
      }
    },
    {
      "cell_type": "code",
      "source": [
        "def reverse_string(s):\n",
        "    # Initialize an empty string to store the reversed string\n",
        "    reversed_str = \"\"\n",
        "    # Iterate through the string in reverse order\n",
        "    for i in range(len(s) - 1, -1, -1):\n",
        "        # Append each character to the reversed string\n",
        "        reversed_str += s[i]\n",
        "    return reversed_str\n",
        "\n",
        "# Example usage:\n",
        "input_str = \"hello\"\n",
        "print(\"Reversed string:\", reverse_string(input_str))\n"
      ],
      "metadata": {
        "colab": {
          "base_uri": "https://localhost:8080/"
        },
        "id": "5mfwL9gpU2kH",
        "outputId": "92d425ea-d704-4672-8a0d-2eb263364f4e"
      },
      "execution_count": 41,
      "outputs": [
        {
          "output_type": "stream",
          "name": "stdout",
          "text": [
            "Reversed string: olleh\n"
          ]
        }
      ]
    },
    {
      "cell_type": "markdown",
      "source": [],
      "metadata": {
        "id": "_gd0WyoQUPkC"
      }
    }
  ]
}